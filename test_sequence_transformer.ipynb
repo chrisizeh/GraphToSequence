{
 "cells": [
  {
   "cell_type": "code",
   "execution_count": 1,
   "id": "4608a29a",
   "metadata": {},
   "outputs": [],
   "source": [
    "import networkx as nx\n",
    "import numpy as np\n",
    "import torch_geometric\n",
    "import torch\n",
    "\n",
    "import torch.nn as nn\n",
    "import torch.optim as optim\n",
    "from torch.utils.data import DataLoader, TensorDataset \n",
    "\n",
    "import matplotlib.pyplot as plt\n",
    "\n",
    "from torch_geometric.data import Dataset, Data\n",
    "from torch_geometric.loader.dataloader import DataLoader\n",
    "\n",
    "from GraphDataset import RandomGraphDataset\n",
    "from GraphToSequence import graphToSequence, sequenceToGraph\n",
    "\n",
    "from SimpleTransformer import SimpleTransformer\n",
    "from lang import Lang"
   ]
  },
  {
   "cell_type": "code",
   "execution_count": 2,
   "id": "b5255a7e",
   "metadata": {},
   "outputs": [],
   "source": [
    "data_folder_training = \"/eos/user/c/czeh/graphsequencer/fixed_edge_graph_training\"\n",
    "data_folder_test = \"/eos/user/c/czeh/graphsequencer/fixed_edge_graph_test\"\n",
    "\n",
    "\n",
    "dataset_training = RandomGraphDataset(data_folder_training, nodes=100, edges=20, data_count=1000)\n",
    "dataset_test = RandomGraphDataset(data_folder_test, nodes=100,  edges=20, data_count=50)"
   ]
  },
  {
   "cell_type": "code",
   "execution_count": 3,
   "id": "a444fa64",
   "metadata": {},
   "outputs": [],
   "source": [
    "def generate_data(num_samples, seq, converter, seq_length):\n",
    "    tensor = torch.zeros((num_samples, seq_length+1), dtype=torch.long)\n",
    "    \n",
    "    idx = np.random.randint(0, len(seq)-3, (num_samples,))\n",
    "    length = np.random.randint(0, len(seq), (num_samples,))\n",
    "\n",
    "    for i in range(num_samples):\n",
    "        tensor[i, :] = torch.tensor(converter.subseq2arr(seq, seq_length+1, idx[i], length[i]+1))\n",
    "        \n",
    "    return tensor[:,:-1], tensor[:,1:]"
   ]
  },
  {
   "cell_type": "code",
   "execution_count": null,
   "id": "9b2d8cb4",
   "metadata": {},
   "outputs": [],
   "source": []
  },
  {
   "cell_type": "code",
   "execution_count": 4,
   "id": "a0d753d0",
   "metadata": {},
   "outputs": [],
   "source": [
    "# Check for GPU availability\n",
    "device = torch.device(\"cuda\" if torch.cuda.is_available() else \"cpu\")\n",
    "# device = \"cpu\""
   ]
  },
  {
   "cell_type": "code",
   "execution_count": 5,
   "id": "b54a1f7e",
   "metadata": {},
   "outputs": [],
   "source": [
    "# Generating data\n",
    "seq = \"4.8.;13.11.(12.6.(7.9.10.5.*6.3.1.2.*11.))\"\n",
    "sequence_length = 10\n",
    "num_samples = 1000\n",
    "batch_size = 256\n",
    "\n",
    "converter = Lang(13)\n",
    "vocab_size = converter.n_words\n",
    "inputs, targets = generate_data(num_samples, seq, converter, sequence_length)\n",
    "\n",
    "# Create a TensorDataset to hold the inputs and targets\n",
    "dataset = TensorDataset(inputs, targets)\n",
    "dataloader = DataLoader(dataset, batch_size=batch_size, shuffle=True)"
   ]
  },
  {
   "cell_type": "code",
   "execution_count": 6,
   "id": "3b20dcef",
   "metadata": {},
   "outputs": [
    {
     "data": {
      "text/plain": [
       "tensor([[ 0,  0,  0,  ...,  7,  5,  5],\n",
       "        [ 0,  7,  4,  ...,  9,  8,  7],\n",
       "        [16,  7,  3,  ...,  9,  7,  4],\n",
       "        ...,\n",
       "        [ 0,  0, 10,  ...,  7,  5,  5],\n",
       "        [ 7,  6, 14,  ...,  7, 10,  7],\n",
       "        [ 9,  9,  7,  ..., 14,  7,  4]])"
      ]
     },
     "execution_count": 6,
     "metadata": {},
     "output_type": "execute_result"
    }
   ],
   "source": [
    "inputs"
   ]
  },
  {
   "cell_type": "code",
   "execution_count": 7,
   "id": "feda3da6",
   "metadata": {},
   "outputs": [
    {
     "data": {
      "text/plain": [
       "tensor([[ 0,  0,  0,  ...,  5,  5,  2],\n",
       "        [ 7,  4, 15,  ...,  8,  7, 13],\n",
       "        [ 7,  3,  9,  ...,  7,  4,  9],\n",
       "        ...,\n",
       "        [ 0, 10,  7,  ...,  5,  5,  2],\n",
       "        [ 6, 14,  7,  ..., 10,  7,  2],\n",
       "        [ 9,  7,  4,  ...,  7,  4, 15]])"
      ]
     },
     "execution_count": 7,
     "metadata": {},
     "output_type": "execute_result"
    }
   ],
   "source": [
    "targets"
   ]
  },
  {
   "cell_type": "code",
   "execution_count": 8,
   "id": "625d1939",
   "metadata": {},
   "outputs": [],
   "source": [
    "embed_size = 512\n",
    "learning_rate = 0.001\n",
    "epochs = 5\n",
    "\n",
    "# Model, loss, and optimizer\n",
    "model = SimpleTransformer(embed_size, sequence_length, vocab_size).to(device)\n",
    "loss_fn = nn.CrossEntropyLoss()\n",
    "\n",
    "# Optionally introduce weight decay\n",
    "# optimizer = torch.optim.Adam(model.parameters(), lr=learning_rate, weight_decay=1e-5)\n",
    "optimizer = optim.Adam(model.parameters(), lr=learning_rate)"
   ]
  },
  {
   "cell_type": "code",
   "execution_count": 9,
   "id": "9d76043d",
   "metadata": {},
   "outputs": [
    {
     "name": "stdout",
     "output_type": "stream",
     "text": [
      "Epoch 1, Loss: 3.215110\n",
      "Epoch 2, Loss: 1.709447\n",
      "Epoch 3, Loss: 1.334484\n",
      "Epoch 4, Loss: 1.215770\n",
      "Epoch 5, Loss: 1.113353\n"
     ]
    }
   ],
   "source": [
    "losses_per_epoch = []\n",
    "\n",
    "# Optionally introduce gradient clipping\n",
    "# torch.nn.utils.clip_grad_norm_(model.parameters(), max_norm=1.0)\n",
    "\n",
    "# Training loop\n",
    "for epoch in range(epochs):\n",
    "    model.train()\n",
    "    total_loss = 0\n",
    "    for input_batch, target_batch in dataloader:\n",
    "        input_batch, target_batch = input_batch.to(device), target_batch.to(device)\n",
    "\n",
    "        optimizer.zero_grad()\n",
    "        output = model(input_batch)\n",
    "        loss = loss_fn(output.view(-1, vocab_size), target_batch.view(-1))\n",
    "        loss.backward()\n",
    "        optimizer.step()\n",
    "        total_loss += loss.item()\n",
    "\n",
    "    loss = total_loss / len(dataloader)\n",
    "    print(f\"Epoch {epoch+1}, Loss: {loss:.6f}\")\n",
    "    losses_per_epoch.append(loss)"
   ]
  },
  {
   "cell_type": "code",
   "execution_count": 10,
   "id": "222f61a2",
   "metadata": {},
   "outputs": [
    {
     "data": {
      "text/plain": [
       "Text(0.5, 1.0, 'Training Loss')"
      ]
     },
     "execution_count": 10,
     "metadata": {},
     "output_type": "execute_result"
    },
    {
     "data": {
      "image/png": "[encoded data removed]",
      "text/plain": [
       "<Figure size 432x288 with 1 Axes>"
      ]
     },
     "metadata": {
      "needs_background": "light"
     },
     "output_type": "display_data"
    }
   ],
   "source": [
    "plt.plot(losses_per_epoch)\n",
    "plt.xlabel(\"Epoch\")\n",
    "plt.ylabel(\"Loss\")\n",
    "plt.title(\"Training Loss\")"
   ]
  },
  {
   "cell_type": "code",
   "execution_count": 11,
   "id": "7b0fd1dc",
   "metadata": {
    "scrolled": false
   },
   "outputs": [
    {
     "name": "stdout",
     "output_type": "stream",
     "text": [
      "Input Sequence: <PAD><PAD><PAD><PAD><PAD><PAD><PAD><PAD><SOS>4\n",
      "Predicted Sequence: <PAD><PAD><PAD><PAD><PAD><PAD><PAD><PAD><SOS><EOS>\n",
      "Correct: False\n",
      "Input Sequence: <PAD><PAD><PAD><PAD><PAD><PAD><PAD><SOS>4.\n",
      "Predicted Sequence: <PAD><PAD><PAD><PAD><PAD><PAD><PAD><SOS>4.\n",
      "Correct: True\n",
      "Input Sequence: <PAD><PAD><PAD><PAD><PAD><PAD><SOS>4.8\n",
      "Predicted Sequence: <PAD><PAD><PAD><PAD><PAD><PAD><SOS>4.1\n",
      "Correct: False\n",
      "Input Sequence: <PAD><PAD><PAD><PAD><PAD><SOS>4.8.\n",
      "Predicted Sequence: <PAD><PAD><PAD><PAD><PAD><SOS>4.8.\n",
      "Correct: True\n",
      "Input Sequence: <PAD><PAD><PAD><PAD><SOS>4.8.;\n",
      "Predicted Sequence: <PAD><PAD><PAD><PAD><SOS>4.8.1\n",
      "Correct: False\n",
      "Input Sequence: <PAD><PAD><PAD><SOS>4.8.;1\n",
      "Predicted Sequence: <PAD><PAD><PAD><SOS>4.8.;1\n",
      "Correct: True\n",
      "Input Sequence: <PAD><PAD><SOS>4.8.;13\n",
      "Predicted Sequence: <PAD><PAD><SOS>4.8.;1.\n",
      "Correct: False\n",
      "Input Sequence: <PAD><SOS>4.8.;13.\n",
      "Predicted Sequence: <PAD><SOS>4.8.;13.\n",
      "Correct: True\n",
      "Input Sequence: <SOS>4.8.;13.1\n",
      "Predicted Sequence: <SOS>4.8.;13.1\n",
      "Correct: True\n",
      "Input Sequence: 4.8.;13.11\n",
      "Predicted Sequence: 4.8.;13.1.\n",
      "Correct: False\n",
      "Input Sequence: .8.;13.11.\n",
      "Predicted Sequence: .8.;13.11.\n",
      "Correct: True\n",
      "Input Sequence: .8.;13.11.\n",
      "Predicted Sequence: .8.;13.11.\n",
      "Correct: True\n",
      "Input Sequence: 8.;13.11.(\n",
      "Predicted Sequence: 8.;13.11.1\n",
      "Correct: False\n",
      "Input Sequence: .;13.11.(1\n",
      "Predicted Sequence: .;13.11.(1\n",
      "Correct: True\n",
      "Input Sequence: ;13.11.(12\n",
      "Predicted Sequence: ;13.11.(1.\n",
      "Correct: False\n",
      "Input Sequence: 13.11.(12.\n",
      "Predicted Sequence: 13.11.(12.\n",
      "Correct: True\n",
      "Input Sequence: 3.11.(12.6\n",
      "Predicted Sequence: 3.11.(12.1\n",
      "Correct: False\n",
      "Input Sequence: .11.(12.6.\n",
      "Predicted Sequence: .11.(12.6.\n",
      "Correct: True\n",
      "Input Sequence: 11.(12.6.(\n",
      "Predicted Sequence: 11.(12.6.6\n",
      "Correct: False\n",
      "Input Sequence: 1.(12.6.(7\n",
      "Predicted Sequence: 1.(12.6.(1\n",
      "Correct: False\n",
      "Input Sequence: .(12.6.(7.\n",
      "Predicted Sequence: .(12.6.(7.\n",
      "Correct: True\n",
      "Input Sequence: (12.6.(7.9\n",
      "Predicted Sequence: (12.6.(7.(\n",
      "Correct: False\n",
      "Input Sequence: 12.6.(7.9.\n",
      "Predicted Sequence: 12.6.(7.9.\n",
      "Correct: True\n",
      "Input Sequence: 2.6.(7.9.1\n",
      "Predicted Sequence: 2.6.(7.9.(\n",
      "Correct: False\n",
      "Input Sequence: .6.(7.9.10\n",
      "Predicted Sequence: .6.(7.9.10\n",
      "Correct: True\n",
      "Input Sequence: 6.(7.9.10.\n",
      "Predicted Sequence: 6.(7.9.10.\n",
      "Correct: True\n",
      "Input Sequence: .(7.9.10.5\n",
      "Predicted Sequence: .(7.9.10.(\n",
      "Correct: False\n",
      "Input Sequence: (7.9.10.5.\n",
      "Predicted Sequence: (7.9.10.5.\n",
      "Correct: True\n",
      "Input Sequence: 7.9.10.5.*\n",
      "Predicted Sequence: 7.9.10.5.<EOS>\n",
      "Correct: False\n",
      "Input Sequence: .9.10.5.*6\n",
      "Predicted Sequence: .9.10.5.*6\n",
      "Correct: True\n",
      "Input Sequence: 9.10.5.*6.\n",
      "Predicted Sequence: 9.10.5.*6.\n",
      "Correct: True\n",
      "Input Sequence: .10.5.*6.3\n",
      "Predicted Sequence: .10.5.*6.1\n",
      "Correct: False\n",
      "Input Sequence: 10.5.*6.3.\n",
      "Predicted Sequence: 10.5.*6.3<EOS>\n",
      "Correct: False\n",
      "Input Sequence: 0.5.*6.3.1\n",
      "Predicted Sequence: 0.5.*6.3.1\n",
      "Correct: True\n",
      "Input Sequence: .5.*6.3.1.\n",
      "Predicted Sequence: .5.*6.3.1<EOS>\n",
      "Correct: False\n",
      "Input Sequence: 5.*6.3.1.2\n",
      "Predicted Sequence: 5.*6.3.1.1\n",
      "Correct: False\n",
      "Input Sequence: .*6.3.1.2.\n",
      "Predicted Sequence: .*6.3.1.2.\n",
      "Correct: True\n",
      "Input Sequence: *6.3.1.2.*\n",
      "Predicted Sequence: *6.3.1.2.1\n",
      "Correct: False\n",
      "Input Sequence: 6.3.1.2.*1\n",
      "Predicted Sequence: 6.3.1.2.*<EOS>\n",
      "Correct: False\n",
      "Input Sequence: .3.1.2.*11\n",
      "Predicted Sequence: .3.1.2.*1<EOS>\n",
      "Correct: False\n",
      "Input Sequence: 3.1.2.*11.\n",
      "Predicted Sequence: 3.1.2.*11<EOS>\n",
      "Correct: False\n",
      "Input Sequence: .1.2.*11.)\n",
      "Predicted Sequence: .1.2.*11.1\n",
      "Correct: False\n",
      "Input Sequence: 1.2.*11.)<EOS>\n",
      "Predicted Sequence: 1.2.*11.))\n",
      "Correct: False\n",
      "Percentage of correct guesses: 0.4418604651162791\n"
     ]
    }
   ],
   "source": [
    "correct = 0\n",
    "for i in range(0, len(seq)+1):\n",
    "    \n",
    "    input_seq = converter.subseq2arr(seq, sequence_length+1, max(i-sequence_length-1, 0), min(i+1, sequence_length+1))\n",
    "    sample_tensor = (torch.tensor(input_seq[:-1], dtype=torch.long).unsqueeze(0).to(device))\n",
    "\n",
    "    model.eval()  # Set the model to evaluation mode\n",
    "    with torch.no_grad():  # Disable gradient computation for inference\n",
    "        predictions = model(sample_tensor)\n",
    "        predicted_index = predictions.argmax(-1)  # Get the index of the max log-probability for the last position\n",
    "\n",
    "    predicted_number = predicted_index[0, -1].item()  # Convert to Python number\n",
    "    print(f\"Input Sequence: {converter.arr2seq(input_seq[1:])}\")\n",
    "\n",
    "    res = torch.roll(sample_tensor, -1, dims=1)\n",
    "    res[0, -1] = predicted_number \n",
    "\n",
    "    print(f\"Predicted Sequence: {converter.arr2seq(res[0])}\")\n",
    "    print(f\"Correct: {converter.arr2seq(res[0]) == converter.arr2seq(input_seq[1:])}\")\n",
    "    correct += converter.arr2seq(res[0]) == converter.arr2seq(input_seq[1:])\n",
    "\n",
    "print(f\"Percentage of correct guesses: {correct / (len(seq)+1)}\")"
   ]
  },
  {
   "cell_type": "code",
   "execution_count": null,
   "id": "e6a8d4f4",
   "metadata": {},
   "outputs": [],
   "source": []
  },
  {
   "cell_type": "code",
   "execution_count": null,
   "id": "3bae4fca",
   "metadata": {},
   "outputs": [],
   "source": []
  },
  {
   "cell_type": "code",
   "execution_count": null,
   "id": "49975e65",
   "metadata": {},
   "outputs": [],
   "source": []
  },
  {
   "cell_type": "code",
   "execution_count": null,
   "id": "4e569ab8",
   "metadata": {
    "scrolled": true
   },
   "outputs": [],
   "source": []
  },
  {
   "cell_type": "code",
   "execution_count": null,
   "id": "2a3ff108",
   "metadata": {},
   "outputs": [],
   "source": []
  }
 ],
 "metadata": {
  "@webio": {
   "lastCommId": null,
   "lastKernelId": null
  },
  "celltoolbar": "Raw Cell Format",
  "kernelspec": {
   "display_name": "Python 3",
   "language": "python",
   "name": "python3"
  },
  "language_info": {
   "codemirror_mode": {
    "name": "ipython",
    "version": 3
   },
   "file_extension": ".py",
   "mimetype": "text/x-python",
   "name": "python",
   "nbconvert_exporter": "python",
   "pygments_lexer": "ipython3",
   "version": "3.11.9"
  }
 },
 "nbformat": 4,
 "nbformat_minor": 5
}
