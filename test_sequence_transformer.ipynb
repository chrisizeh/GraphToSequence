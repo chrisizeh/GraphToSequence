{
 "cells": [
  {
   "cell_type": "code",
   "execution_count": 248,
   "id": "4608a29a",
   "metadata": {},
   "outputs": [],
   "source": [
    "import networkx as nx\n",
    "import numpy as np\n",
    "import torch_geometric\n",
    "import torch\n",
    "\n",
    "import torch.nn as nn\n",
    "import torch.optim as optim\n",
    "from torch.utils.data import DataLoader, TensorDataset \n",
    "\n",
    "import matplotlib.pyplot as plt\n",
    "\n",
    "from torch_geometric.data import Dataset, Data\n",
    "from torch_geometric.loader.dataloader import DataLoader\n",
    "\n",
    "from GraphDataset import RandomGraphDataset\n",
    "from GraphToSequence import graphToSequence, sequenceToGraph\n",
    "\n",
    "from SimpleTransformer import SimpleTransformer"
   ]
  },
  {
   "cell_type": "code",
   "execution_count": 249,
   "id": "b5255a7e",
   "metadata": {},
   "outputs": [],
   "source": [
    "data_folder_training = \"/eos/user/c/czeh/graphsequencer/fixed_edge_graph_training\"\n",
    "data_folder_test = \"/eos/user/c/czeh/graphsequencer/fixed_edge_graph_test\"\n",
    "\n",
    "\n",
    "dataset_training = RandomGraphDataset(data_folder_training, nodes=100, edges=20, data_count=1000)\n",
    "dataset_test = RandomGraphDataset(data_folder_test, nodes=100,  edges=20, data_count=50)"
   ]
  },
  {
   "cell_type": "code",
   "execution_count": 250,
   "id": "f4e9b701",
   "metadata": {},
   "outputs": [],
   "source": [
    "def char_to_index_dict(strings):\n",
    "    # 1. Create a vocabulary (mapping char -> index)\n",
    "    all_chars = sorted(list(set(\"\".join(strings))))  # Unique characters\n",
    "    char_to_index = {char: index for index, char in enumerate(all_chars, 1)}\n",
    "    char_to_index['STOP'] = 0 \n",
    "    return char_to_index"
   ]
  },
  {
   "cell_type": "code",
   "execution_count": 251,
   "id": "cd25ee0e",
   "metadata": {},
   "outputs": [],
   "source": [
    "def string_list_to_char_tensor(strings, char_to_index, max_len=-1):\n",
    "    \"\"\"Converts a list of strings to a character-level encoded tensor.\n",
    "\n",
    "    Args:\n",
    "        strings: A list of strings.\n",
    "\n",
    "    Returns:\n",
    "        A LongTensor where each row represents a string, and each element\n",
    "        in the row is the character index.  Returns None if the input\n",
    "        list is empty.\n",
    "    \"\"\"\n",
    "\n",
    "    if not strings:\n",
    "        return None\n",
    "        \n",
    "\n",
    "    # 2. Determine maximum string length for padding\n",
    "    if max_len <= 0:\n",
    "        max_len = max(len(s) for s in strings)\n",
    "\n",
    "    # 3. Create the tensor\n",
    "    tensor = torch.zeros(len(strings), max_len, dtype=torch.long)  # Initialize with padding (0)\n",
    "\n",
    "    # 4. Populate the tensor\n",
    "    for i, string in enumerate(strings):\n",
    "        for j, char in enumerate(string):\n",
    "            tensor[i, j] = char_to_index[char]\n",
    "\n",
    "    return tensor"
   ]
  },
  {
   "cell_type": "code",
   "execution_count": 252,
   "id": "a444fa64",
   "metadata": {},
   "outputs": [],
   "source": [
    "def generate_data(num_samples, sequence, char_to_index, sequence_length):\n",
    "    idx = np.random.randint(0, len(seq)-3, (num_samples,))\n",
    "    vals = [sequence[idx[i]:idx[i]+sequence_length+1] for i in idx]\n",
    "    inputs = string_list_to_char_tensor(vals, char_to_index)\n",
    "    return inputs[:,:-1], inputs[:,1:]"
   ]
  },
  {
   "cell_type": "code",
   "execution_count": 253,
   "id": "cf06b9a8",
   "metadata": {},
   "outputs": [],
   "source": [
    "def char_tensor_to_string_list(char_tensor, char_to_index):\n",
    "    index_to_char = {index: char for char, index in char_to_index.items()}\n",
    "    strings = []\n",
    "    for row in char_tensor:\n",
    "        strings.append(\"\".join([index_to_char[idx.item()] for idx in row if idx != 0])) #Ignore padding (0)\n",
    "    \n",
    "    return strings"
   ]
  },
  {
   "cell_type": "code",
   "execution_count": null,
   "id": "a7d74876",
   "metadata": {},
   "outputs": [],
   "source": []
  },
  {
   "cell_type": "code",
   "execution_count": null,
   "id": "9b2d8cb4",
   "metadata": {},
   "outputs": [],
   "source": []
  },
  {
   "cell_type": "code",
   "execution_count": 254,
   "id": "a0d753d0",
   "metadata": {},
   "outputs": [],
   "source": [
    "# optional: plot the training loss and save to a file\n",
    "plot_training_loss = True\n",
    "\n",
    "# Check for GPU availability\n",
    "# device = torch.device(\"cuda\" if torch.cuda.is_available() else \"cpu\")\n",
    "device = \"cpu\"\n",
    "\n",
    "# Hyperparameters\n",
    "seq = \"4.8.;13.11.(12.6.(7.9.10.5.*6.3.1.2.*11.))\"\n",
    "embed_size = 512\n",
    "sequence_length = 10\n",
    "vocab_size = 16  # Simple vocab size for demonstration\n",
    "num_samples = 100\n",
    "batch_size = 32\n",
    "learning_rate = 0.001\n",
    "epochs = 50"
   ]
  },
  {
   "cell_type": "code",
   "execution_count": 255,
   "id": "639c6489",
   "metadata": {},
   "outputs": [
    {
     "name": "stdout",
     "output_type": "stream",
     "text": [
      "{'(': 1, ')': 2, '*': 3, '.': 4, '0': 5, '1': 6, '2': 7, '3': 8, '4': 9, '5': 10, '6': 11, '7': 12, '8': 13, '9': 14, ';': 15, 'STOP': 0}\n"
     ]
    }
   ],
   "source": [
    "# Model, loss, and optimizer\n",
    "model = SimpleTransformer(embed_size, sequence_length, vocab_size).to(device)\n",
    "loss_fn = nn.CrossEntropyLoss()\n",
    "\n",
    "# Optionally introduce weight decay\n",
    "# optimizer = torch.optim.Adam(model.parameters(), lr=learning_rate, weight_decay=1e-5)\n",
    "optimizer = optim.Adam(model.parameters(), lr=learning_rate)\n",
    "\n",
    "# Generating data\n",
    "char_to_index = char_to_index_dict([seq])\n",
    "print(char_to_index)\n",
    "inputs, targets = generate_data(num_samples, seq, char_to_index, sequence_length)\n",
    "\n",
    "# Create a TensorDataset to hold the inputs and targets\n",
    "dataset = TensorDataset(inputs, targets)\n",
    "dataloader = DataLoader(dataset, batch_size=batch_size, shuffle=True)"
   ]
  },
  {
   "cell_type": "code",
   "execution_count": 256,
   "id": "3b20dcef",
   "metadata": {},
   "outputs": [],
   "source": [
    "# inputs"
   ]
  },
  {
   "cell_type": "code",
   "execution_count": 257,
   "id": "feda3da6",
   "metadata": {},
   "outputs": [],
   "source": [
    "# targets"
   ]
  },
  {
   "cell_type": "code",
   "execution_count": 258,
   "id": "9d76043d",
   "metadata": {},
   "outputs": [
    {
     "name": "stdout",
     "output_type": "stream",
     "text": [
      "Epoch 1, Loss: 2.937374\n",
      "Epoch 2, Loss: 1.473996\n",
      "Epoch 3, Loss: 1.211999\n",
      "Epoch 4, Loss: 1.056850\n",
      "Epoch 5, Loss: 1.005773\n",
      "Epoch 6, Loss: 0.936256\n",
      "Epoch 7, Loss: 0.924060\n",
      "Epoch 8, Loss: 0.827772\n",
      "Epoch 9, Loss: 0.786736\n",
      "Epoch 10, Loss: 0.726652\n",
      "Epoch 11, Loss: 0.691254\n",
      "Epoch 12, Loss: 0.615961\n",
      "Epoch 13, Loss: 0.603275\n",
      "Epoch 14, Loss: 0.503116\n",
      "Epoch 15, Loss: 0.502501\n",
      "Epoch 16, Loss: 0.526860\n",
      "Epoch 17, Loss: 0.508938\n",
      "Epoch 18, Loss: 0.470088\n",
      "Epoch 19, Loss: 0.443431\n",
      "Epoch 20, Loss: 0.425098\n",
      "Epoch 21, Loss: 0.390861\n",
      "Epoch 22, Loss: 0.308264\n",
      "Epoch 23, Loss: 0.278757\n",
      "Epoch 24, Loss: 0.269062\n",
      "Epoch 25, Loss: 0.252757\n",
      "Epoch 26, Loss: 0.217553\n",
      "Epoch 27, Loss: 0.204230\n",
      "Epoch 28, Loss: 0.203004\n",
      "Epoch 29, Loss: 0.161949\n",
      "Epoch 30, Loss: 0.200565\n",
      "Epoch 31, Loss: 0.181555\n",
      "Epoch 32, Loss: 0.203961\n",
      "Epoch 33, Loss: 0.180310\n",
      "Epoch 34, Loss: 0.128059\n",
      "Epoch 35, Loss: 0.149431\n",
      "Epoch 36, Loss: 0.133900\n",
      "Epoch 37, Loss: 0.122702\n",
      "Epoch 38, Loss: 0.095406\n",
      "Epoch 39, Loss: 0.122460\n",
      "Epoch 40, Loss: 0.158341\n",
      "Epoch 41, Loss: 0.240411\n",
      "Epoch 42, Loss: 0.185987\n",
      "Epoch 43, Loss: 0.230124\n",
      "Epoch 44, Loss: 0.155790\n",
      "Epoch 45, Loss: 0.128994\n",
      "Epoch 46, Loss: 0.128317\n",
      "Epoch 47, Loss: 0.107692\n",
      "Epoch 48, Loss: 0.075122\n",
      "Epoch 49, Loss: 0.075683\n",
      "Epoch 50, Loss: 0.063385\n"
     ]
    }
   ],
   "source": [
    "losses_per_epoch = []\n",
    "\n",
    "# Optionally introduce gradient clipping\n",
    "# torch.nn.utils.clip_grad_norm_(model.parameters(), max_norm=1.0)\n",
    "\n",
    "# Training loop\n",
    "for epoch in range(epochs):\n",
    "    model.train()\n",
    "    total_loss = 0\n",
    "    for input_batch, target_batch in dataloader:\n",
    "        input_batch, target_batch = input_batch.to(device), target_batch.to(device)\n",
    "\n",
    "        optimizer.zero_grad()\n",
    "        output = model(input_batch)\n",
    "        loss = loss_fn(output.view(-1, vocab_size), target_batch.view(-1))\n",
    "        loss.backward()\n",
    "        optimizer.step()\n",
    "        total_loss += loss.item()\n",
    "\n",
    "    loss = total_loss / len(dataloader)\n",
    "    print(f\"Epoch {epoch+1}, Loss: {loss:.6f}\")\n",
    "    losses_per_epoch.append(loss)"
   ]
  },
  {
   "cell_type": "code",
   "execution_count": 259,
   "id": "261a2aa8",
   "metadata": {},
   "outputs": [
    {
     "data": {
      "image/png": "[encoded data removed]",
      "text/plain": [
       "<Figure size 432x288 with 1 Axes>"
      ]
     },
     "metadata": {
      "needs_background": "light"
     },
     "output_type": "display_data"
    }
   ],
   "source": [
    "if plot_training_loss:\n",
    "    plt.plot(losses_per_epoch)\n",
    "    plt.xlabel(\"Epoch\")\n",
    "    plt.ylabel(\"Loss\")\n",
    "    plt.title(\"Training Loss\")"
   ]
  },
  {
   "cell_type": "code",
   "execution_count": 260,
   "id": "7b0fd1dc",
   "metadata": {},
   "outputs": [
    {
     "name": "stdout",
     "output_type": "stream",
     "text": [
      "Input Sequence: 4.8.;13.11.\n",
      "Predicted Sequence: .8.;13.11.\n",
      "Correct: True\n",
      "Input Sequence: .8.;13.11.(\n",
      "Predicted Sequence: 8.;13.11.(\n",
      "Correct: True\n",
      "Input Sequence: 8.;13.11.(1\n",
      "Predicted Sequence: .;13.11.(1\n",
      "Correct: True\n",
      "Input Sequence: .;13.11.(12\n",
      "Predicted Sequence: ;13.11.(1.\n",
      "Correct: False\n",
      "Input Sequence: ;13.11.(12.\n",
      "Predicted Sequence: 13.11.(12.\n",
      "Correct: True\n",
      "Input Sequence: 13.11.(12.6\n",
      "Predicted Sequence: 3.11.(12.6\n",
      "Correct: True\n",
      "Input Sequence: 3.11.(12.6.\n",
      "Predicted Sequence: .11.(12.6.\n",
      "Correct: True\n",
      "Input Sequence: .11.(12.6.(\n",
      "Predicted Sequence: 11.(12.6.2\n",
      "Correct: False\n",
      "Input Sequence: 11.(12.6.(7\n",
      "Predicted Sequence: 1.(12.6.(7\n",
      "Correct: True\n",
      "Input Sequence: 1.(12.6.(7.\n",
      "Predicted Sequence: .(12.6.(7.\n",
      "Correct: True\n",
      "Input Sequence: .(12.6.(7.9\n",
      "Predicted Sequence: (12.6.(7.9\n",
      "Correct: True\n",
      "Input Sequence: (12.6.(7.9.\n",
      "Predicted Sequence: 12.6.(7.9.\n",
      "Correct: True\n",
      "Input Sequence: 12.6.(7.9.1\n",
      "Predicted Sequence: 2.6.(7.9.1\n",
      "Correct: True\n",
      "Input Sequence: 2.6.(7.9.10\n",
      "Predicted Sequence: .6.(7.9.10\n",
      "Correct: True\n",
      "Input Sequence: .6.(7.9.10.\n",
      "Predicted Sequence: 6.(7.9.10.\n",
      "Correct: True\n",
      "Input Sequence: 6.(7.9.10.5\n",
      "Predicted Sequence: .(7.9.10.5\n",
      "Correct: True\n",
      "Input Sequence: .(7.9.10.5.\n",
      "Predicted Sequence: (7.9.10.5.\n",
      "Correct: True\n",
      "Input Sequence: (7.9.10.5.*\n",
      "Predicted Sequence: 7.9.10.5.5\n",
      "Correct: False\n",
      "Input Sequence: 7.9.10.5.*6\n",
      "Predicted Sequence: .9.10.5.*6\n",
      "Correct: True\n",
      "Input Sequence: .9.10.5.*6.\n",
      "Predicted Sequence: 9.10.5.*6.\n",
      "Correct: True\n",
      "Input Sequence: 9.10.5.*6.3\n",
      "Predicted Sequence: .10.5.*6.3\n",
      "Correct: True\n",
      "Input Sequence: .10.5.*6.3.\n",
      "Predicted Sequence: 10.5.*6.3.\n",
      "Correct: True\n",
      "Input Sequence: 10.5.*6.3.1\n",
      "Predicted Sequence: 0.5.*6.3.3\n",
      "Correct: False\n",
      "Input Sequence: 0.5.*6.3.1.\n",
      "Predicted Sequence: .5.*6.3.1.\n",
      "Correct: True\n",
      "Input Sequence: .5.*6.3.1.2\n",
      "Predicted Sequence: 5.*6.3.1.2\n",
      "Correct: True\n",
      "Input Sequence: 5.*6.3.1.2.\n",
      "Predicted Sequence: .*6.3.1.2.\n",
      "Correct: True\n",
      "Input Sequence: .*6.3.1.2.*\n",
      "Predicted Sequence: *6.3.1.2.(\n",
      "Correct: False\n",
      "Input Sequence: *6.3.1.2.*1\n",
      "Predicted Sequence: 6.3.1.2.*1\n",
      "Correct: True\n",
      "Input Sequence: 6.3.1.2.*11\n",
      "Predicted Sequence: .3.1.2.*11\n",
      "Correct: True\n",
      "Input Sequence: .3.1.2.*11.\n",
      "Predicted Sequence: 3.1.2.*11.\n",
      "Correct: True\n",
      "Input Sequence: 3.1.2.*11.)\n",
      "Predicted Sequence: .1.2.*11.)\n",
      "Correct: True\n",
      "Input Sequence: .1.2.*11.))\n",
      "Predicted Sequence: 1.2.*11.)\n",
      "Correct: False\n",
      "Input Sequence: 1.2.*11.))\n",
      "Predicted Sequence: .2.*11.))\n",
      "Correct: True\n",
      "Input Sequence: .2.*11.))\n",
      "Predicted Sequence: 2.*11.))\n",
      "Correct: True\n",
      "Input Sequence: 2.*11.))\n",
      "Predicted Sequence: .*11.))\n",
      "Correct: True\n",
      "Input Sequence: .*11.))\n",
      "Predicted Sequence: *11.))\n",
      "Correct: True\n"
     ]
    }
   ],
   "source": [
    "for i in range(len(seq) - 6):\n",
    "    # Example sequence\n",
    "    sample_sequence = string_list_to_char_tensor([seq[i:i+sequence_length]], char_to_index, sequence_length)\n",
    "    sample_tensor = (\n",
    "        torch.tensor(sample_sequence.numpy()[0], dtype=torch.long).unsqueeze(0).to(device)\n",
    "    )  # Add batch dimension and send to device\n",
    "\n",
    "    model.eval()  # Set the model to evaluation mode\n",
    "    with torch.no_grad():  # Disable gradient computation for inference\n",
    "        predictions = model(sample_tensor)\n",
    "        predicted_index = predictions.argmax(\n",
    "            -1\n",
    "        )  # Get the index of the max log-probability for the last position\n",
    "\n",
    "    predicted_number = predicted_index[0, -1].item()  # Convert to Python number\n",
    "    print(f\"Input Sequence: {seq[i:i+sequence_length+1]}\")\n",
    "\n",
    "    res = torch.roll(sample_tensor, -1, dims=1)\n",
    "    res[0, -1] = predicted_number \n",
    "\n",
    "    print(f\"Predicted Sequence: {char_tensor_to_string_list(res, char_to_index)[0]}\")\n",
    "    print(f\"Correct: {char_tensor_to_string_list(res, char_to_index)[0] == seq[i+1:i+sequence_length+1]}\")\n",
    "\n",
    "\n",
    "\n"
   ]
  },
  {
   "cell_type": "code",
   "execution_count": null,
   "id": "e6a8d4f4",
   "metadata": {},
   "outputs": [],
   "source": []
  },
  {
   "cell_type": "code",
   "execution_count": null,
   "id": "3bae4fca",
   "metadata": {},
   "outputs": [],
   "source": []
  },
  {
   "cell_type": "code",
   "execution_count": null,
   "id": "49975e65",
   "metadata": {},
   "outputs": [],
   "source": []
  },
  {
   "cell_type": "code",
   "execution_count": null,
   "id": "4e569ab8",
   "metadata": {
    "scrolled": true
   },
   "outputs": [],
   "source": []
  },
  {
   "cell_type": "code",
   "execution_count": null,
   "id": "2a3ff108",
   "metadata": {},
   "outputs": [],
   "source": []
  }
 ],
 "metadata": {
  "@webio": {
   "lastCommId": null,
   "lastKernelId": null
  },
  "celltoolbar": "Raw Cell Format",
  "kernelspec": {
   "display_name": "Python 3",
   "language": "python",
   "name": "python3"
  },
  "language_info": {
   "codemirror_mode": {
    "name": "ipython",
    "version": 3
   },
   "file_extension": ".py",
   "mimetype": "text/x-python",
   "name": "python",
   "nbconvert_exporter": "python",
   "pygments_lexer": "ipython3",
   "version": "3.11.9"
  }
 },
 "nbformat": 4,
 "nbformat_minor": 5
}
