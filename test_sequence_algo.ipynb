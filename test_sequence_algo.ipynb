{
 "cells": [
  {
   "cell_type": "code",
   "execution_count": 1,
   "id": "4608a29a",
   "metadata": {},
   "outputs": [],
   "source": [
    "import networkx as nx\n",
    "import numpy as np\n",
    "import torch_geometric\n",
    "import torch\n",
    "\n",
    "import matplotlib.pyplot as plt\n",
    "\n",
    "from torch_geometric.data import Dataset, Data\n",
    "from torch_geometric.loader.dataloader import DataLoader\n",
    "\n",
    "from GraphDataset import RandomGraphDataset\n",
    "from GraphToSequence import graphToSequence, sequenceToGraph"
   ]
  },
  {
   "cell_type": "code",
   "execution_count": 2,
   "id": "b5255a7e",
   "metadata": {},
   "outputs": [
    {
     "name": "stderr",
     "output_type": "stream",
     "text": [
      "Processing...\n",
      "/eos/home-i04/c/czeh/SWAN_projects/GraphToSequence/GraphDataset.py:40: FutureWarning: You are using `torch.load` with `weights_only=False` (the current default value), which uses the default pickle module implicitly. It is possible to construct malicious pickle data which will execute arbitrary code during unpickling (See https://github.com/pytorch/pytorch/blob/main/SECURITY.md#untrusted-models for more details). In a future release, the default value for `weights_only` will be flipped to `True`. This limits the functions that could be executed during unpickling. Arbitrary objects will no longer be allowed to be loaded via this mode unless they are explicitly allowlisted by the user via `torch.serialization.add_safe_globals`. We recommend you start setting `weights_only=True` for any use case where you don't have full control of the loaded file. Please open an issue on GitHub for any issues related to this experimental feature.\n",
      "  run = torch.load(raw_path)\n",
      "Done!\n",
      "Processing...\n",
      "Done!\n"
     ]
    }
   ],
   "source": [
    "data_folder_training = \"/eos/user/c/czeh/random_graph_training\"\n",
    "data_folder_test = \"/eos/user/c/czeh/random_graph_test\"\n",
    "\n",
    "dataset_training = RandomGraphDataset(data_folder_training, nodes=100, data_count=1000)\n",
    "dataset_test = RandomGraphDataset(data_folder_test, nodes=100, data_count=50)"
   ]
  },
  {
   "cell_type": "code",
   "execution_count": 3,
   "id": "a0d753d0",
   "metadata": {},
   "outputs": [
    {
     "name": "stderr",
     "output_type": "stream",
     "text": [
      "/eos/home-i04/c/czeh/SWAN_projects/GraphToSequence/GraphDataset.py:70: FutureWarning: You are using `torch.load` with `weights_only=False` (the current default value), which uses the default pickle module implicitly. It is possible to construct malicious pickle data which will execute arbitrary code during unpickling (See https://github.com/pytorch/pytorch/blob/main/SECURITY.md#untrusted-models for more details). In a future release, the default value for `weights_only` will be flipped to `True`. This limits the functions that could be executed during unpickling. Arbitrary objects will no longer be allowed to be loaded via this mode unless they are explicitly allowlisted by the user via `torch.serialization.add_safe_globals`. We recommend you start setting `weights_only=True` for any use case where you don't have full control of the loaded file. Please open an issue on GitHub for any issues related to this experimental feature.\n",
      "  data = torch.load(osp.join(self.processed_dir, f'data_{idx}.pt'))\n"
     ]
    },
    {
     "data": {
      "text/plain": [
       "tensor([[ 0, 20],\n",
       "        [49, 82],\n",
       "        [56, 85],\n",
       "        [76, 95],\n",
       "        [53, 87],\n",
       "        [60, 99],\n",
       "        [ 9, 32],\n",
       "        [19, 94],\n",
       "        [61, 83],\n",
       "        [17, 82],\n",
       "        [74, 93],\n",
       "        [34, 35],\n",
       "        [ 2, 17],\n",
       "        [41, 52],\n",
       "        [27, 75],\n",
       "        [39, 90],\n",
       "        [62, 83],\n",
       "        [25, 94],\n",
       "        [27, 34],\n",
       "        [ 9, 56],\n",
       "        [ 9, 66],\n",
       "        [82, 88],\n",
       "        [28, 98],\n",
       "        [ 5, 69],\n",
       "        [48, 69],\n",
       "        [21, 48],\n",
       "        [60, 98],\n",
       "        [35, 38],\n",
       "        [42, 82],\n",
       "        [71, 74],\n",
       "        [67, 91],\n",
       "        [23, 72],\n",
       "        [26, 39],\n",
       "        [ 9, 15],\n",
       "        [ 5, 57],\n",
       "        [31, 90],\n",
       "        [ 0, 32],\n",
       "        [59, 88],\n",
       "        [78, 94],\n",
       "        [49, 71],\n",
       "        [ 2, 94],\n",
       "        [18, 51],\n",
       "        [70, 97],\n",
       "        [ 3, 85],\n",
       "        [32, 96],\n",
       "        [28, 92],\n",
       "        [21, 62],\n",
       "        [24, 92],\n",
       "        [72, 97],\n",
       "        [14, 78]])"
      ]
     },
     "execution_count": 3,
     "metadata": {},
     "output_type": "execute_result"
    }
   ],
   "source": [
    "dataset_training.get(1).edge_index.T"
   ]
  },
  {
   "cell_type": "code",
   "execution_count": 4,
   "id": "ae1bc271",
   "metadata": {},
   "outputs": [],
   "source": [
    "origG = torch_geometric.utils.to_networkx(dataset_training.get(5), to_undirected=True)\n",
    "# nx.draw_circular(origG, with_labels=True)"
   ]
  },
  {
   "cell_type": "code",
   "execution_count": 5,
   "id": "9d76043d",
   "metadata": {},
   "outputs": [],
   "source": [
    "seq = graphToSequence(dataset_training.get(5).edge_index.numpy())"
   ]
  },
  {
   "cell_type": "code",
   "execution_count": 6,
   "id": "7b0fd1dc",
   "metadata": {},
   "outputs": [],
   "source": [
    "res_nodes, res_edges = sequenceToGraph(seq)\n",
    "\n",
    "data = Data(x=dataset_training.get(5).x, num_nodes=res_nodes.shape[0], edge_index=torch.from_numpy(res_edges))\n",
    "G = torch_geometric.utils.to_networkx(dataset_training.get(5), to_undirected=True)\n",
    "# nx.draw_circular(G, with_labels=True)\n",
    "\n"
   ]
  },
  {
   "cell_type": "code",
   "execution_count": 7,
   "id": "e6a8d4f4",
   "metadata": {},
   "outputs": [
    {
     "name": "stdout",
     "output_type": "stream",
     "text": [
      "0.0\n"
     ]
    }
   ],
   "source": [
    "print(nx.graph_edit_distance(origG, G))"
   ]
  },
  {
   "cell_type": "code",
   "execution_count": 8,
   "id": "3bae4fca",
   "metadata": {},
   "outputs": [],
   "source": [
    "train_dl = DataLoader(dataset_training, shuffle=False)"
   ]
  },
  {
   "cell_type": "code",
   "execution_count": 9,
   "id": "49975e65",
   "metadata": {},
   "outputs": [],
   "source": [
    "i = 0\n",
    "for data in train_dl:\n",
    "    origG = torch_geometric.utils.to_networkx(data, to_undirected=True)\n",
    "    seq = graphToSequence(data.edge_index.numpy())\n",
    "    \n",
    "    res_nodes, res_edges = sequenceToGraph(seq)\n",
    "    newData = Data(x=data.x, num_nodes=data.num_nodes, edge_index=torch.from_numpy(res_edges))\n",
    "    G = torch_geometric.utils.to_networkx(newData, to_undirected=True)\n",
    "    \n",
    "    if (nx.graph_edit_distance(origG, G) > 0):\n",
    "        print(i)\n",
    "        print(nx.graph_edit_distance(origG, G))\n",
    "        print(res_edges.T)\n",
    "        fig, ax = plt.subplots(1, 2)\n",
    "        nx.draw_circular(origG, with_labels=True, ax=ax[0])\n",
    "        nx.draw_circular(G, with_labels=True, ax=ax[1])\n",
    "        break\n",
    "    i += 1"
   ]
  },
  {
   "cell_type": "code",
   "execution_count": null,
   "id": "4e569ab8",
   "metadata": {
    "scrolled": true
   },
   "outputs": [],
   "source": []
  },
  {
   "cell_type": "code",
   "execution_count": null,
   "id": "2a3ff108",
   "metadata": {},
   "outputs": [],
   "source": []
  }
 ],
 "metadata": {
  "@webio": {
   "lastCommId": null,
   "lastKernelId": null
  },
  "kernelspec": {
   "display_name": "Python 3",
   "language": "python",
   "name": "python3"
  },
  "language_info": {
   "codemirror_mode": {
    "name": "ipython",
    "version": 3
   },
   "file_extension": ".py",
   "mimetype": "text/x-python",
   "name": "python",
   "nbconvert_exporter": "python",
   "pygments_lexer": "ipython3",
   "version": "3.11.9"
  }
 },
 "nbformat": 4,
 "nbformat_minor": 5
}
